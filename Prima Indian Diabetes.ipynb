{
 "cells": [
  {
   "cell_type": "code",
   "execution_count": 2,
   "id": "596b0693",
   "metadata": {},
   "outputs": [],
   "source": [
    "from sklearn.linear_model import LogisticRegression\n",
    "from sklearn.datasets import make_classification\n",
    "from sklearn.preprocessing import StandardScaler\n",
    "from sklearn.model_selection import train_test_split\n",
    "from sklearn.metrics import confusion_matrix,accuracy_score,classification_report\n",
    "import pandas as pd\n",
    "import numpy as np"
   ]
  },
  {
   "cell_type": "code",
   "execution_count": 3,
   "id": "628da21a",
   "metadata": {},
   "outputs": [],
   "source": [
    "diabetes=pd.read_csv(r\"C:\\Users\\shyam\\OneDrive\\MACHINE LEARNING PROGRAMS\\pima-indians-diabetes.csv\")"
   ]
  },
  {
   "cell_type": "code",
   "execution_count": 4,
   "id": "a3ca9645",
   "metadata": {},
   "outputs": [],
   "source": [
    "diabetes.columns=['Number of times pregnant','Plasma glucose concentration a 2 hours in an oral glucose tolerance test','Diastolic blood pressure (mm Hg)','Triceps skin fold thickness (mm)','2-Hour serum insulin (mu U/ml)','Body mass index (weight in kg/(height in m)^2)','Diabetes pedigree function','Age (years)','Diabetes Present or Absent(0 or 1) ']"
   ]
  },
  {
   "cell_type": "code",
   "execution_count": 5,
   "id": "8164ff91",
   "metadata": {},
   "outputs": [
    {
     "data": {
      "text/html": [
       "<div>\n",
       "<style scoped>\n",
       "    .dataframe tbody tr th:only-of-type {\n",
       "        vertical-align: middle;\n",
       "    }\n",
       "\n",
       "    .dataframe tbody tr th {\n",
       "        vertical-align: top;\n",
       "    }\n",
       "\n",
       "    .dataframe thead th {\n",
       "        text-align: right;\n",
       "    }\n",
       "</style>\n",
       "<table border=\"1\" class=\"dataframe\">\n",
       "  <thead>\n",
       "    <tr style=\"text-align: right;\">\n",
       "      <th></th>\n",
       "      <th>Number of times pregnant</th>\n",
       "      <th>Plasma glucose concentration a 2 hours in an oral glucose tolerance test</th>\n",
       "      <th>Diastolic blood pressure (mm Hg)</th>\n",
       "      <th>Triceps skin fold thickness (mm)</th>\n",
       "      <th>2-Hour serum insulin (mu U/ml)</th>\n",
       "      <th>Body mass index (weight in kg/(height in m)^2)</th>\n",
       "      <th>Diabetes pedigree function</th>\n",
       "      <th>Age (years)</th>\n",
       "      <th>Diabetes Present or Absent(0 or 1)</th>\n",
       "    </tr>\n",
       "  </thead>\n",
       "  <tbody>\n",
       "    <tr>\n",
       "      <th>0</th>\n",
       "      <td>1</td>\n",
       "      <td>85</td>\n",
       "      <td>66</td>\n",
       "      <td>29</td>\n",
       "      <td>0</td>\n",
       "      <td>26.6</td>\n",
       "      <td>0.351</td>\n",
       "      <td>31</td>\n",
       "      <td>0</td>\n",
       "    </tr>\n",
       "    <tr>\n",
       "      <th>1</th>\n",
       "      <td>8</td>\n",
       "      <td>183</td>\n",
       "      <td>64</td>\n",
       "      <td>0</td>\n",
       "      <td>0</td>\n",
       "      <td>23.3</td>\n",
       "      <td>0.672</td>\n",
       "      <td>32</td>\n",
       "      <td>1</td>\n",
       "    </tr>\n",
       "    <tr>\n",
       "      <th>2</th>\n",
       "      <td>1</td>\n",
       "      <td>89</td>\n",
       "      <td>66</td>\n",
       "      <td>23</td>\n",
       "      <td>94</td>\n",
       "      <td>28.1</td>\n",
       "      <td>0.167</td>\n",
       "      <td>21</td>\n",
       "      <td>0</td>\n",
       "    </tr>\n",
       "    <tr>\n",
       "      <th>3</th>\n",
       "      <td>0</td>\n",
       "      <td>137</td>\n",
       "      <td>40</td>\n",
       "      <td>35</td>\n",
       "      <td>168</td>\n",
       "      <td>43.1</td>\n",
       "      <td>2.288</td>\n",
       "      <td>33</td>\n",
       "      <td>1</td>\n",
       "    </tr>\n",
       "    <tr>\n",
       "      <th>4</th>\n",
       "      <td>5</td>\n",
       "      <td>116</td>\n",
       "      <td>74</td>\n",
       "      <td>0</td>\n",
       "      <td>0</td>\n",
       "      <td>25.6</td>\n",
       "      <td>0.201</td>\n",
       "      <td>30</td>\n",
       "      <td>0</td>\n",
       "    </tr>\n",
       "    <tr>\n",
       "      <th>...</th>\n",
       "      <td>...</td>\n",
       "      <td>...</td>\n",
       "      <td>...</td>\n",
       "      <td>...</td>\n",
       "      <td>...</td>\n",
       "      <td>...</td>\n",
       "      <td>...</td>\n",
       "      <td>...</td>\n",
       "      <td>...</td>\n",
       "    </tr>\n",
       "    <tr>\n",
       "      <th>762</th>\n",
       "      <td>10</td>\n",
       "      <td>101</td>\n",
       "      <td>76</td>\n",
       "      <td>48</td>\n",
       "      <td>180</td>\n",
       "      <td>32.9</td>\n",
       "      <td>0.171</td>\n",
       "      <td>63</td>\n",
       "      <td>0</td>\n",
       "    </tr>\n",
       "    <tr>\n",
       "      <th>763</th>\n",
       "      <td>2</td>\n",
       "      <td>122</td>\n",
       "      <td>70</td>\n",
       "      <td>27</td>\n",
       "      <td>0</td>\n",
       "      <td>36.8</td>\n",
       "      <td>0.340</td>\n",
       "      <td>27</td>\n",
       "      <td>0</td>\n",
       "    </tr>\n",
       "    <tr>\n",
       "      <th>764</th>\n",
       "      <td>5</td>\n",
       "      <td>121</td>\n",
       "      <td>72</td>\n",
       "      <td>23</td>\n",
       "      <td>112</td>\n",
       "      <td>26.2</td>\n",
       "      <td>0.245</td>\n",
       "      <td>30</td>\n",
       "      <td>0</td>\n",
       "    </tr>\n",
       "    <tr>\n",
       "      <th>765</th>\n",
       "      <td>1</td>\n",
       "      <td>126</td>\n",
       "      <td>60</td>\n",
       "      <td>0</td>\n",
       "      <td>0</td>\n",
       "      <td>30.1</td>\n",
       "      <td>0.349</td>\n",
       "      <td>47</td>\n",
       "      <td>1</td>\n",
       "    </tr>\n",
       "    <tr>\n",
       "      <th>766</th>\n",
       "      <td>1</td>\n",
       "      <td>93</td>\n",
       "      <td>70</td>\n",
       "      <td>31</td>\n",
       "      <td>0</td>\n",
       "      <td>30.4</td>\n",
       "      <td>0.315</td>\n",
       "      <td>23</td>\n",
       "      <td>0</td>\n",
       "    </tr>\n",
       "  </tbody>\n",
       "</table>\n",
       "<p>767 rows × 9 columns</p>\n",
       "</div>"
      ],
      "text/plain": [
       "     Number of times pregnant  \\\n",
       "0                           1   \n",
       "1                           8   \n",
       "2                           1   \n",
       "3                           0   \n",
       "4                           5   \n",
       "..                        ...   \n",
       "762                        10   \n",
       "763                         2   \n",
       "764                         5   \n",
       "765                         1   \n",
       "766                         1   \n",
       "\n",
       "     Plasma glucose concentration a 2 hours in an oral glucose tolerance test  \\\n",
       "0                                                   85                          \n",
       "1                                                  183                          \n",
       "2                                                   89                          \n",
       "3                                                  137                          \n",
       "4                                                  116                          \n",
       "..                                                 ...                          \n",
       "762                                                101                          \n",
       "763                                                122                          \n",
       "764                                                121                          \n",
       "765                                                126                          \n",
       "766                                                 93                          \n",
       "\n",
       "     Diastolic blood pressure (mm Hg)  Triceps skin fold thickness (mm)  \\\n",
       "0                                  66                                29   \n",
       "1                                  64                                 0   \n",
       "2                                  66                                23   \n",
       "3                                  40                                35   \n",
       "4                                  74                                 0   \n",
       "..                                ...                               ...   \n",
       "762                                76                                48   \n",
       "763                                70                                27   \n",
       "764                                72                                23   \n",
       "765                                60                                 0   \n",
       "766                                70                                31   \n",
       "\n",
       "     2-Hour serum insulin (mu U/ml)  \\\n",
       "0                                 0   \n",
       "1                                 0   \n",
       "2                                94   \n",
       "3                               168   \n",
       "4                                 0   \n",
       "..                              ...   \n",
       "762                             180   \n",
       "763                               0   \n",
       "764                             112   \n",
       "765                               0   \n",
       "766                               0   \n",
       "\n",
       "     Body mass index (weight in kg/(height in m)^2)  \\\n",
       "0                                              26.6   \n",
       "1                                              23.3   \n",
       "2                                              28.1   \n",
       "3                                              43.1   \n",
       "4                                              25.6   \n",
       "..                                              ...   \n",
       "762                                            32.9   \n",
       "763                                            36.8   \n",
       "764                                            26.2   \n",
       "765                                            30.1   \n",
       "766                                            30.4   \n",
       "\n",
       "     Diabetes pedigree function  Age (years)  \\\n",
       "0                         0.351           31   \n",
       "1                         0.672           32   \n",
       "2                         0.167           21   \n",
       "3                         2.288           33   \n",
       "4                         0.201           30   \n",
       "..                          ...          ...   \n",
       "762                       0.171           63   \n",
       "763                       0.340           27   \n",
       "764                       0.245           30   \n",
       "765                       0.349           47   \n",
       "766                       0.315           23   \n",
       "\n",
       "     Diabetes Present or Absent(0 or 1)   \n",
       "0                                      0  \n",
       "1                                      1  \n",
       "2                                      0  \n",
       "3                                      1  \n",
       "4                                      0  \n",
       "..                                   ...  \n",
       "762                                    0  \n",
       "763                                    0  \n",
       "764                                    0  \n",
       "765                                    1  \n",
       "766                                    0  \n",
       "\n",
       "[767 rows x 9 columns]"
      ]
     },
     "execution_count": 5,
     "metadata": {},
     "output_type": "execute_result"
    }
   ],
   "source": [
    "diabetes"
   ]
  },
  {
   "cell_type": "code",
   "execution_count": 6,
   "id": "aa1137d2",
   "metadata": {},
   "outputs": [
    {
     "data": {
      "text/html": [
       "<div>\n",
       "<style scoped>\n",
       "    .dataframe tbody tr th:only-of-type {\n",
       "        vertical-align: middle;\n",
       "    }\n",
       "\n",
       "    .dataframe tbody tr th {\n",
       "        vertical-align: top;\n",
       "    }\n",
       "\n",
       "    .dataframe thead th {\n",
       "        text-align: right;\n",
       "    }\n",
       "</style>\n",
       "<table border=\"1\" class=\"dataframe\">\n",
       "  <thead>\n",
       "    <tr style=\"text-align: right;\">\n",
       "      <th></th>\n",
       "      <th>Number of times pregnant</th>\n",
       "      <th>Plasma glucose concentration a 2 hours in an oral glucose tolerance test</th>\n",
       "      <th>Diastolic blood pressure (mm Hg)</th>\n",
       "      <th>Triceps skin fold thickness (mm)</th>\n",
       "      <th>2-Hour serum insulin (mu U/ml)</th>\n",
       "      <th>Body mass index (weight in kg/(height in m)^2)</th>\n",
       "      <th>Diabetes pedigree function</th>\n",
       "      <th>Age (years)</th>\n",
       "      <th>Diabetes Present or Absent(0 or 1)</th>\n",
       "    </tr>\n",
       "  </thead>\n",
       "  <tbody>\n",
       "    <tr>\n",
       "      <th>0</th>\n",
       "      <td>1</td>\n",
       "      <td>85</td>\n",
       "      <td>66</td>\n",
       "      <td>29</td>\n",
       "      <td>0</td>\n",
       "      <td>26.6</td>\n",
       "      <td>0.351</td>\n",
       "      <td>31</td>\n",
       "      <td>0</td>\n",
       "    </tr>\n",
       "    <tr>\n",
       "      <th>1</th>\n",
       "      <td>8</td>\n",
       "      <td>183</td>\n",
       "      <td>64</td>\n",
       "      <td>0</td>\n",
       "      <td>0</td>\n",
       "      <td>23.3</td>\n",
       "      <td>0.672</td>\n",
       "      <td>32</td>\n",
       "      <td>1</td>\n",
       "    </tr>\n",
       "    <tr>\n",
       "      <th>2</th>\n",
       "      <td>1</td>\n",
       "      <td>89</td>\n",
       "      <td>66</td>\n",
       "      <td>23</td>\n",
       "      <td>94</td>\n",
       "      <td>28.1</td>\n",
       "      <td>0.167</td>\n",
       "      <td>21</td>\n",
       "      <td>0</td>\n",
       "    </tr>\n",
       "    <tr>\n",
       "      <th>3</th>\n",
       "      <td>0</td>\n",
       "      <td>137</td>\n",
       "      <td>40</td>\n",
       "      <td>35</td>\n",
       "      <td>168</td>\n",
       "      <td>43.1</td>\n",
       "      <td>2.288</td>\n",
       "      <td>33</td>\n",
       "      <td>1</td>\n",
       "    </tr>\n",
       "    <tr>\n",
       "      <th>4</th>\n",
       "      <td>5</td>\n",
       "      <td>116</td>\n",
       "      <td>74</td>\n",
       "      <td>0</td>\n",
       "      <td>0</td>\n",
       "      <td>25.6</td>\n",
       "      <td>0.201</td>\n",
       "      <td>30</td>\n",
       "      <td>0</td>\n",
       "    </tr>\n",
       "    <tr>\n",
       "      <th>5</th>\n",
       "      <td>3</td>\n",
       "      <td>78</td>\n",
       "      <td>50</td>\n",
       "      <td>32</td>\n",
       "      <td>88</td>\n",
       "      <td>31.0</td>\n",
       "      <td>0.248</td>\n",
       "      <td>26</td>\n",
       "      <td>1</td>\n",
       "    </tr>\n",
       "    <tr>\n",
       "      <th>6</th>\n",
       "      <td>10</td>\n",
       "      <td>115</td>\n",
       "      <td>0</td>\n",
       "      <td>0</td>\n",
       "      <td>0</td>\n",
       "      <td>35.3</td>\n",
       "      <td>0.134</td>\n",
       "      <td>29</td>\n",
       "      <td>0</td>\n",
       "    </tr>\n",
       "    <tr>\n",
       "      <th>7</th>\n",
       "      <td>2</td>\n",
       "      <td>197</td>\n",
       "      <td>70</td>\n",
       "      <td>45</td>\n",
       "      <td>543</td>\n",
       "      <td>30.5</td>\n",
       "      <td>0.158</td>\n",
       "      <td>53</td>\n",
       "      <td>1</td>\n",
       "    </tr>\n",
       "    <tr>\n",
       "      <th>8</th>\n",
       "      <td>8</td>\n",
       "      <td>125</td>\n",
       "      <td>96</td>\n",
       "      <td>0</td>\n",
       "      <td>0</td>\n",
       "      <td>0.0</td>\n",
       "      <td>0.232</td>\n",
       "      <td>54</td>\n",
       "      <td>1</td>\n",
       "    </tr>\n",
       "    <tr>\n",
       "      <th>9</th>\n",
       "      <td>4</td>\n",
       "      <td>110</td>\n",
       "      <td>92</td>\n",
       "      <td>0</td>\n",
       "      <td>0</td>\n",
       "      <td>37.6</td>\n",
       "      <td>0.191</td>\n",
       "      <td>30</td>\n",
       "      <td>0</td>\n",
       "    </tr>\n",
       "  </tbody>\n",
       "</table>\n",
       "</div>"
      ],
      "text/plain": [
       "   Number of times pregnant  \\\n",
       "0                         1   \n",
       "1                         8   \n",
       "2                         1   \n",
       "3                         0   \n",
       "4                         5   \n",
       "5                         3   \n",
       "6                        10   \n",
       "7                         2   \n",
       "8                         8   \n",
       "9                         4   \n",
       "\n",
       "   Plasma glucose concentration a 2 hours in an oral glucose tolerance test  \\\n",
       "0                                                 85                          \n",
       "1                                                183                          \n",
       "2                                                 89                          \n",
       "3                                                137                          \n",
       "4                                                116                          \n",
       "5                                                 78                          \n",
       "6                                                115                          \n",
       "7                                                197                          \n",
       "8                                                125                          \n",
       "9                                                110                          \n",
       "\n",
       "   Diastolic blood pressure (mm Hg)  Triceps skin fold thickness (mm)  \\\n",
       "0                                66                                29   \n",
       "1                                64                                 0   \n",
       "2                                66                                23   \n",
       "3                                40                                35   \n",
       "4                                74                                 0   \n",
       "5                                50                                32   \n",
       "6                                 0                                 0   \n",
       "7                                70                                45   \n",
       "8                                96                                 0   \n",
       "9                                92                                 0   \n",
       "\n",
       "   2-Hour serum insulin (mu U/ml)  \\\n",
       "0                               0   \n",
       "1                               0   \n",
       "2                              94   \n",
       "3                             168   \n",
       "4                               0   \n",
       "5                              88   \n",
       "6                               0   \n",
       "7                             543   \n",
       "8                               0   \n",
       "9                               0   \n",
       "\n",
       "   Body mass index (weight in kg/(height in m)^2)  Diabetes pedigree function  \\\n",
       "0                                            26.6                       0.351   \n",
       "1                                            23.3                       0.672   \n",
       "2                                            28.1                       0.167   \n",
       "3                                            43.1                       2.288   \n",
       "4                                            25.6                       0.201   \n",
       "5                                            31.0                       0.248   \n",
       "6                                            35.3                       0.134   \n",
       "7                                            30.5                       0.158   \n",
       "8                                             0.0                       0.232   \n",
       "9                                            37.6                       0.191   \n",
       "\n",
       "   Age (years)  Diabetes Present or Absent(0 or 1)   \n",
       "0           31                                    0  \n",
       "1           32                                    1  \n",
       "2           21                                    0  \n",
       "3           33                                    1  \n",
       "4           30                                    0  \n",
       "5           26                                    1  \n",
       "6           29                                    0  \n",
       "7           53                                    1  \n",
       "8           54                                    1  \n",
       "9           30                                    0  "
      ]
     },
     "execution_count": 6,
     "metadata": {},
     "output_type": "execute_result"
    }
   ],
   "source": [
    "diabetes.head(10)"
   ]
  },
  {
   "cell_type": "code",
   "execution_count": 7,
   "id": "7ee25271",
   "metadata": {},
   "outputs": [],
   "source": [
    "s = diabetes.values[:,0:8]"
   ]
  },
  {
   "cell_type": "code",
   "execution_count": 8,
   "id": "b02bf614",
   "metadata": {},
   "outputs": [
    {
     "data": {
      "text/plain": [
       "array([[1.00e+00, 8.50e+01, 6.60e+01, ..., 2.66e+01, 3.51e-01, 3.10e+01],\n",
       "       [8.00e+00, 1.83e+02, 6.40e+01, ..., 2.33e+01, 6.72e-01, 3.20e+01],\n",
       "       [1.00e+00, 8.90e+01, 6.60e+01, ..., 2.81e+01, 1.67e-01, 2.10e+01],\n",
       "       ...,\n",
       "       [5.00e+00, 1.21e+02, 7.20e+01, ..., 2.62e+01, 2.45e-01, 3.00e+01],\n",
       "       [1.00e+00, 1.26e+02, 6.00e+01, ..., 3.01e+01, 3.49e-01, 4.70e+01],\n",
       "       [1.00e+00, 9.30e+01, 7.00e+01, ..., 3.04e+01, 3.15e-01, 2.30e+01]])"
      ]
     },
     "execution_count": 8,
     "metadata": {},
     "output_type": "execute_result"
    }
   ],
   "source": [
    "s"
   ]
  },
  {
   "cell_type": "code",
   "execution_count": 9,
   "id": "148951d7",
   "metadata": {},
   "outputs": [],
   "source": [
    "scr = StandardScaler()"
   ]
  },
  {
   "cell_type": "code",
   "execution_count": 10,
   "id": "a4263356",
   "metadata": {},
   "outputs": [],
   "source": [
    "x = scr.fit_transform(s)"
   ]
  },
  {
   "cell_type": "code",
   "execution_count": 11,
   "id": "e0fd6072",
   "metadata": {},
   "outputs": [
    {
     "data": {
      "text/plain": [
       "array([[-0.84372629, -1.12208597, -0.16024856, ..., -0.68372895,\n",
       "        -0.36426474, -0.18894038],\n",
       "       [ 1.23423997,  1.94447577, -0.26357823, ..., -1.10230105,\n",
       "         0.60470064, -0.1037951 ],\n",
       "       [-0.84372629, -0.99692019, -0.16024856, ..., -0.49346891,\n",
       "        -0.91968415, -1.0403932 ],\n",
       "       ...,\n",
       "       [ 0.343683  ,  0.0044061 ,  0.14974046, ..., -0.73446496,\n",
       "        -0.68423462, -0.27408566],\n",
       "       [-0.84372629,  0.16086333, -0.47023757, ..., -0.23978884,\n",
       "        -0.37030191,  1.17338414],\n",
       "       [-0.84372629, -0.8717544 ,  0.04641078, ..., -0.20173684,\n",
       "        -0.47293375, -0.87010264]])"
      ]
     },
     "execution_count": 11,
     "metadata": {},
     "output_type": "execute_result"
    }
   ],
   "source": [
    "x"
   ]
  },
  {
   "cell_type": "code",
   "execution_count": 12,
   "id": "c6d49e5f",
   "metadata": {},
   "outputs": [],
   "source": [
    "y = diabetes.values[:,8]"
   ]
  },
  {
   "cell_type": "code",
   "execution_count": 13,
   "id": "692ff7eb",
   "metadata": {},
   "outputs": [
    {
     "data": {
      "text/plain": [
       "array([0., 1., 0., 1., 0., 1., 0., 1., 1., 0., 1., 0., 1., 1., 1., 1., 1.,\n",
       "       0., 1., 0., 0., 1., 1., 1., 1., 1., 0., 0., 0., 0., 1., 0., 0., 0.,\n",
       "       0., 0., 1., 1., 1., 0., 0., 0., 1., 0., 1., 0., 0., 1., 0., 0., 0.,\n",
       "       0., 1., 0., 0., 1., 0., 0., 0., 0., 1., 0., 0., 1., 0., 1., 0., 0.,\n",
       "       0., 1., 0., 1., 0., 0., 0., 0., 0., 1., 0., 0., 0., 0., 0., 1., 0.,\n",
       "       0., 0., 1., 0., 0., 0., 0., 1., 0., 0., 0., 0., 0., 1., 1., 0., 0.,\n",
       "       0., 0., 0., 0., 0., 0., 1., 1., 1., 0., 0., 1., 1., 1., 0., 0., 0.,\n",
       "       1., 0., 0., 0., 1., 1., 0., 0., 1., 1., 1., 1., 1., 0., 0., 0., 0.,\n",
       "       0., 0., 0., 0., 0., 0., 1., 0., 0., 0., 0., 0., 0., 0., 0., 1., 0.,\n",
       "       1., 1., 0., 0., 0., 1., 0., 0., 0., 0., 1., 1., 0., 0., 0., 0., 1.,\n",
       "       1., 0., 0., 0., 1., 0., 1., 0., 1., 0., 0., 0., 0., 0., 1., 1., 1.,\n",
       "       1., 1., 0., 0., 1., 1., 0., 1., 0., 1., 1., 1., 0., 0., 0., 0., 0.,\n",
       "       0., 1., 1., 0., 1., 0., 0., 0., 1., 1., 1., 1., 0., 1., 1., 1., 1.,\n",
       "       0., 0., 0., 0., 0., 1., 0., 0., 1., 1., 0., 0., 0., 1., 1., 1., 1.,\n",
       "       0., 0., 0., 1., 1., 0., 1., 0., 0., 0., 0., 0., 0., 0., 0., 1., 1.,\n",
       "       0., 0., 0., 1., 0., 1., 0., 0., 1., 0., 1., 0., 0., 1., 1., 0., 0.,\n",
       "       0., 0., 0., 1., 0., 0., 0., 1., 0., 0., 1., 1., 0., 0., 1., 0., 0.,\n",
       "       0., 1., 1., 1., 0., 0., 1., 0., 1., 0., 1., 1., 0., 1., 0., 0., 1.,\n",
       "       0., 1., 1., 0., 0., 1., 0., 1., 0., 0., 1., 0., 1., 0., 1., 1., 1.,\n",
       "       0., 0., 1., 0., 1., 0., 0., 0., 1., 0., 0., 0., 0., 1., 1., 1., 0.,\n",
       "       0., 0., 0., 0., 0., 0., 0., 0., 1., 0., 0., 0., 0., 0., 1., 1., 1.,\n",
       "       0., 1., 1., 0., 0., 1., 0., 0., 1., 0., 0., 1., 1., 0., 0., 0., 0.,\n",
       "       1., 0., 0., 1., 0., 0., 0., 0., 0., 0., 0., 1., 1., 1., 0., 0., 1.,\n",
       "       0., 0., 1., 0., 0., 1., 0., 1., 1., 0., 1., 0., 1., 0., 1., 0., 1.,\n",
       "       1., 0., 0., 0., 0., 1., 1., 0., 1., 0., 1., 0., 0., 0., 0., 1., 1.,\n",
       "       0., 1., 0., 1., 0., 0., 0., 0., 0., 1., 0., 0., 0., 0., 1., 0., 0.,\n",
       "       1., 1., 1., 0., 0., 1., 0., 0., 1., 0., 0., 0., 1., 0., 0., 1., 0.,\n",
       "       0., 0., 0., 0., 0., 0., 0., 0., 1., 0., 0., 0., 0., 0., 0., 0., 1.,\n",
       "       0., 0., 0., 1., 0., 0., 0., 1., 1., 0., 0., 0., 0., 0., 0., 0., 1.,\n",
       "       0., 0., 0., 0., 1., 0., 0., 0., 1., 0., 0., 0., 1., 0., 0., 0., 1.,\n",
       "       0., 0., 0., 0., 1., 1., 0., 0., 0., 0., 0., 0., 1., 0., 0., 0., 0.,\n",
       "       0., 0., 0., 0., 0., 0., 0., 1., 0., 0., 0., 1., 1., 1., 1., 0., 0.,\n",
       "       1., 1., 0., 0., 0., 0., 0., 0., 0., 0., 0., 0., 0., 0., 0., 1., 1.,\n",
       "       0., 0., 0., 0., 0., 0., 0., 1., 0., 0., 0., 0., 0., 0., 0., 1., 0.,\n",
       "       1., 1., 0., 0., 0., 1., 0., 1., 0., 1., 0., 1., 0., 1., 0., 0., 1.,\n",
       "       0., 0., 1., 0., 0., 0., 0., 1., 1., 0., 1., 0., 0., 0., 0., 1., 1.,\n",
       "       0., 1., 0., 0., 0., 1., 1., 0., 0., 0., 0., 0., 0., 0., 0., 0., 0.,\n",
       "       1., 0., 0., 0., 0., 1., 0., 0., 1., 0., 0., 0., 1., 0., 0., 0., 1.,\n",
       "       1., 1., 0., 0., 0., 0., 0., 0., 1., 0., 0., 0., 1., 0., 1., 1., 1.,\n",
       "       1., 0., 1., 1., 0., 0., 0., 0., 0., 0., 0., 1., 1., 0., 1., 0., 0.,\n",
       "       1., 0., 1., 0., 0., 0., 0., 0., 1., 0., 1., 0., 1., 0., 1., 1., 0.,\n",
       "       0., 0., 0., 1., 1., 0., 0., 0., 1., 0., 1., 1., 0., 0., 1., 0., 0.,\n",
       "       1., 1., 0., 0., 1., 0., 0., 1., 0., 0., 0., 0., 0., 0., 0., 1., 1.,\n",
       "       1., 0., 0., 0., 0., 0., 0., 1., 1., 0., 0., 1., 0., 0., 1., 0., 1.,\n",
       "       1., 1., 0., 0., 1., 1., 1., 0., 1., 0., 1., 0., 1., 0., 0., 0., 0.,\n",
       "       1., 0.])"
      ]
     },
     "execution_count": 13,
     "metadata": {},
     "output_type": "execute_result"
    }
   ],
   "source": [
    "y"
   ]
  },
  {
   "cell_type": "code",
   "execution_count": 14,
   "id": "2f086b30",
   "metadata": {},
   "outputs": [
    {
     "name": "stdout",
     "output_type": "stream",
     "text": [
      "(613, 8)\n",
      "(613,)\n",
      "(154, 8)\n",
      "(154,)\n"
     ]
    }
   ],
   "source": [
    "xtrain,xtest,ytrain,ytest = train_test_split(x,y,random_state=1,test_size=0.2)\n",
    "print(xtrain.shape)\n",
    "print(ytrain.shape)\n",
    "print(xtest.shape)\n",
    "print(ytest.shape)"
   ]
  },
  {
   "cell_type": "code",
   "execution_count": 15,
   "id": "bcb41e79",
   "metadata": {},
   "outputs": [],
   "source": [
    "log_reg = LogisticRegression(random_state=0)"
   ]
  },
  {
   "cell_type": "code",
   "execution_count": 16,
   "id": "c1210dad",
   "metadata": {},
   "outputs": [],
   "source": [
    "log_reg.fit(xtrain,ytrain)\n",
    "ypre = log_reg.predict(xtest)"
   ]
  },
  {
   "cell_type": "code",
   "execution_count": 17,
   "id": "0c91044d",
   "metadata": {},
   "outputs": [
    {
     "name": "stdout",
     "output_type": "stream",
     "text": [
      "[[98 10]\n",
      " [27 19]]\n"
     ]
    }
   ],
   "source": [
    "print(confusion_matrix(ytest,ypre))"
   ]
  },
  {
   "cell_type": "code",
   "execution_count": 18,
   "id": "db69e7f4",
   "metadata": {},
   "outputs": [
    {
     "name": "stdout",
     "output_type": "stream",
     "text": [
      "              precision    recall  f1-score   support\n",
      "\n",
      "         0.0       0.78      0.91      0.84       108\n",
      "         1.0       0.66      0.41      0.51        46\n",
      "\n",
      "    accuracy                           0.76       154\n",
      "   macro avg       0.72      0.66      0.67       154\n",
      "weighted avg       0.75      0.76      0.74       154\n",
      "\n"
     ]
    }
   ],
   "source": [
    "print(classification_report(ytest,ypre))"
   ]
  },
  {
   "cell_type": "code",
   "execution_count": 19,
   "id": "534a86a3",
   "metadata": {},
   "outputs": [
    {
     "name": "stdout",
     "output_type": "stream",
     "text": [
      "0.7597402597402597\n"
     ]
    },
    {
     "data": {
      "text/plain": [
       "75.97402597402598"
      ]
     },
     "execution_count": 19,
     "metadata": {},
     "output_type": "execute_result"
    }
   ],
   "source": [
    "print(accuracy_score(ytest,ypre))\n",
    "score = accuracy_score(ytest,ypre)*100\n",
    "score"
   ]
  },
  {
   "cell_type": "code",
   "execution_count": 20,
   "id": "940b0456",
   "metadata": {},
   "outputs": [
    {
     "name": "stdout",
     "output_type": "stream",
     "text": [
      "THE ACCURACY SCORE FOR DIABETES DATA BY LOGISTIC REGRESSION ALGORITHM IS: 75.97402597402598\n"
     ]
    }
   ],
   "source": [
    "print('THE ACCURACY SCORE FOR DIABETES DATA BY LOGISTIC REGRESSION ALGORITHM IS:',score)"
   ]
  },
  {
   "cell_type": "code",
   "execution_count": 21,
   "id": "895d8384",
   "metadata": {},
   "outputs": [],
   "source": [
    "from sklearn.naive_bayes import GaussianNB # importation\n",
    "Gmodel=GaussianNB()"
   ]
  },
  {
   "cell_type": "code",
   "execution_count": 22,
   "id": "c4d3b8a0",
   "metadata": {},
   "outputs": [],
   "source": [
    "Gmodel.fit(xtrain,ytrain)\n",
    "train_Gpred=Gmodel.predict(xtrain) #\n",
    "test_Gpred=Gmodel.predict(xtest) #"
   ]
  },
  {
   "cell_type": "code",
   "execution_count": 23,
   "id": "3570f89d",
   "metadata": {},
   "outputs": [
    {
     "name": "stdout",
     "output_type": "stream",
     "text": [
      "gaussian naive bayes - training accuracy: 0.765089722675367\n",
      "gaussian nb - testing time accuracy: 0.7337662337662337\n"
     ]
    }
   ],
   "source": [
    "train_acc_gau=np.mean(train_Gpred==ytrain)# 120 samples label(train)\n",
    "test_acc_gau=np.mean(test_Gpred==ytest)# 30 samples label(test)\n",
    "print('gaussian naive bayes - training accuracy:',train_acc_gau)\n",
    "print('gaussian nb - testing time accuracy:',test_acc_gau)"
   ]
  },
  {
   "cell_type": "code",
   "execution_count": 24,
   "id": "6048d503",
   "metadata": {},
   "outputs": [],
   "source": [
    "scorex = test_acc_gau*100"
   ]
  },
  {
   "cell_type": "code",
   "execution_count": 25,
   "id": "62361f6b",
   "metadata": {},
   "outputs": [
    {
     "name": "stdout",
     "output_type": "stream",
     "text": [
      "THE ACCURACY SCORE FOR DIABETES DATA BY GAUSSIAN NAIVE BAYES ALGORITHM IS: 73.37662337662337\n"
     ]
    }
   ],
   "source": [
    "print('THE ACCURACY SCORE FOR DIABETES DATA BY GAUSSIAN NAIVE BAYES ALGORITHM IS:',scorex)"
   ]
  },
  {
   "cell_type": "code",
   "execution_count": 26,
   "id": "41051905",
   "metadata": {},
   "outputs": [],
   "source": [
    "from sklearn.linear_model import LinearRegression"
   ]
  },
  {
   "cell_type": "code",
   "execution_count": 27,
   "id": "fcd9932b",
   "metadata": {},
   "outputs": [],
   "source": [
    "rgr=LinearRegression()\n",
    "model=rgr.fit(x,y)\n",
    "ypre=model.predict(x)"
   ]
  },
  {
   "cell_type": "code",
   "execution_count": 28,
   "id": "e637339e",
   "metadata": {},
   "outputs": [
    {
     "data": {
      "text/plain": [
       "30.22573598879996"
      ]
     },
     "execution_count": 28,
     "metadata": {},
     "output_type": "execute_result"
    }
   ],
   "source": [
    "scores=model.score(x,y)*100\n",
    "scores"
   ]
  },
  {
   "cell_type": "code",
   "execution_count": 29,
   "id": "77931f99",
   "metadata": {},
   "outputs": [
    {
     "name": "stdout",
     "output_type": "stream",
     "text": [
      "THE ACCURACY SCORE FOR DIABETES DATA BY LINEAR REGRESSION ALGORITHM IS: 30.22573598879996\n"
     ]
    }
   ],
   "source": [
    "print('THE ACCURACY SCORE FOR DIABETES DATA BY LINEAR REGRESSION ALGORITHM IS:',scores)"
   ]
  },
  {
   "cell_type": "code",
   "execution_count": 30,
   "id": "a7b472a2",
   "metadata": {},
   "outputs": [],
   "source": [
    "a = pd.Series([ 'LOGISTIC REGRESSION ALGORITHM' , ' GAUSSIAN NAIVE BAYES ALGORITHM' ,' LINEAR REGRESSION ALGORITHM'])"
   ]
  },
  {
   "cell_type": "code",
   "execution_count": 31,
   "id": "b04596d3",
   "metadata": {},
   "outputs": [],
   "source": [
    "b = np.array([75.97402597402598,73.37662337662337,30.22573598879996])"
   ]
  },
  {
   "cell_type": "code",
   "execution_count": 32,
   "id": "c8841f61",
   "metadata": {},
   "outputs": [],
   "source": [
    "c ={'ALGORITHMS':a,'ACCURACY SCORES':b}"
   ]
  },
  {
   "cell_type": "code",
   "execution_count": 33,
   "id": "b985f305",
   "metadata": {},
   "outputs": [],
   "source": [
    "d = pd.DataFrame(c)"
   ]
  },
  {
   "cell_type": "code",
   "execution_count": 34,
   "id": "382efb0c",
   "metadata": {},
   "outputs": [
    {
     "data": {
      "text/html": [
       "<div>\n",
       "<style scoped>\n",
       "    .dataframe tbody tr th:only-of-type {\n",
       "        vertical-align: middle;\n",
       "    }\n",
       "\n",
       "    .dataframe tbody tr th {\n",
       "        vertical-align: top;\n",
       "    }\n",
       "\n",
       "    .dataframe thead th {\n",
       "        text-align: right;\n",
       "    }\n",
       "</style>\n",
       "<table border=\"1\" class=\"dataframe\">\n",
       "  <thead>\n",
       "    <tr style=\"text-align: right;\">\n",
       "      <th></th>\n",
       "      <th>ALGORITHMS</th>\n",
       "      <th>ACCURACY SCORES</th>\n",
       "    </tr>\n",
       "  </thead>\n",
       "  <tbody>\n",
       "    <tr>\n",
       "      <th>0</th>\n",
       "      <td>LOGISTIC REGRESSION ALGORITHM</td>\n",
       "      <td>75.974026</td>\n",
       "    </tr>\n",
       "    <tr>\n",
       "      <th>1</th>\n",
       "      <td>GAUSSIAN NAIVE BAYES ALGORITHM</td>\n",
       "      <td>73.376623</td>\n",
       "    </tr>\n",
       "    <tr>\n",
       "      <th>2</th>\n",
       "      <td>LINEAR REGRESSION ALGORITHM</td>\n",
       "      <td>30.225736</td>\n",
       "    </tr>\n",
       "  </tbody>\n",
       "</table>\n",
       "</div>"
      ],
      "text/plain": [
       "                        ALGORITHMS  ACCURACY SCORES\n",
       "0    LOGISTIC REGRESSION ALGORITHM        75.974026\n",
       "1   GAUSSIAN NAIVE BAYES ALGORITHM        73.376623\n",
       "2      LINEAR REGRESSION ALGORITHM        30.225736"
      ]
     },
     "execution_count": 34,
     "metadata": {},
     "output_type": "execute_result"
    }
   ],
   "source": [
    "d"
   ]
  },
  {
   "cell_type": "code",
   "execution_count": 36,
   "id": "494b86d0",
   "metadata": {},
   "outputs": [
    {
     "data": {
      "text/plain": [
       "[Text(0, 0, 'LOGISTIC REGRESSION ALGORITHM'),\n",
       " Text(1, 0, ' GAUSSIAN NAIVE BAYES ALGORITHM'),\n",
       " Text(2, 0, ' LINEAR REGRESSION ALGORITHM')]"
      ]
     },
     "execution_count": 36,
     "metadata": {},
     "output_type": "execute_result"
    },
    {
     "data": {
      "image/png": "[encoded data removed]",
      "text/plain": [
       "<Figure size 1080x360 with 1 Axes>"
      ]
     },
     "metadata": {},
     "output_type": "display_data"
    }
   ],
   "source": [
    "import seaborn as sns\n",
    "sns.set()\n",
    "sns.set(rc={'figure.figsize':(15,5)})\n",
    "ax = sns.barplot(x='ALGORITHMS',y='ACCURACY SCORES',data=d)\n",
    "ax.set_xticklabels(ax.get_xticklabels(),rotation = 0)"
   ]
  },
  {
   "cell_type": "code",
   "execution_count": null,
   "id": "6c57283f",
   "metadata": {},
   "outputs": [],
   "source": []
  }
 ],
 "metadata": {
  "kernelspec": {
   "display_name": "Python 3 (ipykernel)",
   "language": "python",
   "name": "python3"
  },
  "language_info": {
   "codemirror_mode": {
    "name": "ipython",
    "version": 3
   },
   "file_extension": ".py",
   "mimetype": "text/x-python",
   "name": "python",
   "nbconvert_exporter": "python",
   "pygments_lexer": "ipython3",
   "version": "3.9.7"
  }
 },
 "nbformat": 4,
 "nbformat_minor": 5
}
